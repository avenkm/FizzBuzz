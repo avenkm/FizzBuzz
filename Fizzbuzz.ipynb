{
 "cells": [
  {
   "cell_type": "markdown",
   "metadata": {},
   "source": [
    "Write a program that prints the numbers from 1 to 100. But for multiples of three print “Fizz” instead of the number and for the multiples of five print “Buzz”. For numbers which are multiples of both three and five print “FizzBuzz”. For fun, take a user input for any range of numbers."
   ]
  },
  {
   "cell_type": "markdown",
   "metadata": {},
   "source": [
    "0. Take user input for range ceiling\n",
    "1. Create a list from 1 to a 100 (or any range)\n",
    "    1a. Create variables for \"fizz\", \"buzz\" and \"fizzbuzz\"\n",
    "2. Loop through this list starting with the first element\n",
    "    2a. Inside this loop divide the element in the list using modulus by 3\n",
    "        2aa. Assign value to a variable (mod3)\n",
    "        2ab. If variable is equal to zero then assign element in list \"Fizz\"\n",
    "    2b. Inside this loop divide the element in the list using modulus by 5\n",
    "        2ba. Assign value to a variable (mod5)\n",
    "        2bb. If variable is equal to zero then assign element in list \"Buzz\"\n",
    "    2c. To check for both use if statement to check if mod3 and mod5 are both equal to 0 \n",
    "        2ca. If true then assign \"Fizzbuzz\" to element in list\n",
    "3. Print list to screen \n"
   ]
  },
  {
   "cell_type": "code",
   "execution_count": 1,
   "metadata": {},
   "outputs": [
    {
     "name": "stdout",
     "output_type": "stream",
     "text": [
      "How much do you want to fizzbuzz?\n",
      "100\n"
     ]
    }
   ],
   "source": [
    "#taking user input\n",
    "question = \"How much do you want to fizzbuzz?\"\n",
    "print(question)\n",
    "#storing user input as an integer variable\n",
    "input_val = int(input())"
   ]
  },
  {
   "cell_type": "code",
   "execution_count": 4,
   "metadata": {},
   "outputs": [
    {
     "data": {
      "text/plain": [
       "['FizzBuzz',\n",
       " 1,\n",
       " 2,\n",
       " 'Fizz',\n",
       " 4,\n",
       " 'Buzz',\n",
       " 'Fizz',\n",
       " 7,\n",
       " 8,\n",
       " 'Fizz',\n",
       " 'Buzz',\n",
       " 11,\n",
       " 'Fizz',\n",
       " 13,\n",
       " 14,\n",
       " 'FizzBuzz',\n",
       " 16,\n",
       " 17,\n",
       " 'Fizz',\n",
       " 19,\n",
       " 'Buzz',\n",
       " 'Fizz',\n",
       " 22,\n",
       " 23,\n",
       " 'Fizz',\n",
       " 'Buzz',\n",
       " 26,\n",
       " 'Fizz',\n",
       " 28,\n",
       " 29,\n",
       " 'FizzBuzz',\n",
       " 31,\n",
       " 32,\n",
       " 'Fizz',\n",
       " 34,\n",
       " 'Buzz',\n",
       " 'Fizz',\n",
       " 37,\n",
       " 38,\n",
       " 'Fizz',\n",
       " 'Buzz',\n",
       " 41,\n",
       " 'Fizz',\n",
       " 43,\n",
       " 44,\n",
       " 'FizzBuzz',\n",
       " 46,\n",
       " 47,\n",
       " 'Fizz',\n",
       " 49,\n",
       " 'Buzz',\n",
       " 'Fizz',\n",
       " 52,\n",
       " 53,\n",
       " 'Fizz',\n",
       " 'Buzz',\n",
       " 56,\n",
       " 'Fizz',\n",
       " 58,\n",
       " 59,\n",
       " 'FizzBuzz',\n",
       " 61,\n",
       " 62,\n",
       " 'Fizz',\n",
       " 64,\n",
       " 'Buzz',\n",
       " 'Fizz',\n",
       " 67,\n",
       " 68,\n",
       " 'Fizz',\n",
       " 'Buzz',\n",
       " 71,\n",
       " 'Fizz',\n",
       " 73,\n",
       " 74,\n",
       " 'FizzBuzz',\n",
       " 76,\n",
       " 77,\n",
       " 'Fizz',\n",
       " 79,\n",
       " 'Buzz',\n",
       " 'Fizz',\n",
       " 82,\n",
       " 83,\n",
       " 'Fizz',\n",
       " 'Buzz',\n",
       " 86,\n",
       " 'Fizz',\n",
       " 88,\n",
       " 89,\n",
       " 'FizzBuzz',\n",
       " 91,\n",
       " 92,\n",
       " 'Fizz',\n",
       " 94,\n",
       " 'Buzz',\n",
       " 'Fizz',\n",
       " 97,\n",
       " 98,\n",
       " 'Fizz']"
      ]
     },
     "execution_count": 4,
     "metadata": {},
     "output_type": "execute_result"
    }
   ],
   "source": [
    "def fizzbuzz(input_val):\n",
    "    #creating a list of numbers from 0 to whatever value chosen by user\n",
    "    num_list = list(range(input_val))\n",
    "    #assigning variables to the strings \"Fizz\", \"Buzz\", and \"Fizzbuzz\", this way we can change the strings as we please\n",
    "    a = \"Fizz\"\n",
    "    b = \"Buzz\"\n",
    "    c = \"FizzBuzz\"\n",
    "    #looping through the list to check values for my given conditions\n",
    "    for i in range (0,len(num_list)):\n",
    "        #use modulus instead of divisor because we're curious about the remainder not the actual value, assign operation to variable\n",
    "        mod3 = num_list[i]%3\n",
    "        mod5 = num_list[i]%5\n",
    "    \n",
    "        # checking if divisible by 3 and 5, then just 3, then just 5\n",
    "        if mod3 == 0 and mod5 == 0:\n",
    "            num_list[i] = c\n",
    "        elif mod3 == 0:\n",
    "            num_list[i] = a\n",
    "        elif mod5 == 0:\n",
    "            num_list[i] = b\n",
    "        else:\n",
    "            continue\n",
    "    return num_list\n",
    "fizzbuzz(input_val)\n"
   ]
  },
  {
   "cell_type": "code",
   "execution_count": null,
   "metadata": {
    "collapsed": true
   },
   "outputs": [],
   "source": []
  }
 ],
 "metadata": {
  "kernelspec": {
   "display_name": "Python 3",
   "language": "python",
   "name": "python3"
  },
  "language_info": {
   "codemirror_mode": {
    "name": "ipython",
    "version": 3
   },
   "file_extension": ".py",
   "mimetype": "text/x-python",
   "name": "python",
   "nbconvert_exporter": "python",
   "pygments_lexer": "ipython3",
   "version": "3.6.5"
  }
 },
 "nbformat": 4,
 "nbformat_minor": 2
}
